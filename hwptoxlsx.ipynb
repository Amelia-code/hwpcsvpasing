{
 "cells": [
  {
   "cell_type": "code",
   "execution_count": 20,
   "id": "c1d75c86",
   "metadata": {},
   "outputs": [
    {
     "data": {
      "text/plain": [
       "True"
      ]
     },
     "execution_count": 20,
     "metadata": {},
     "output_type": "execute_result"
    }
   ],
   "source": [
    "import win32com.client as win32  #없으면 라이브러리 설치 필요 \n",
    "import pandas as pd\n",
    "\n",
    "hwp = win32.gencache.EnsureDispatch(\"HWPFrame.HwpObject\")\n",
    "hwp.RegisterModule(\"FilePathCheckDLL\",\"AutomationModule\")\n",
    "hwp.Open(\"C:\\\\workspace\\\\크롤링\\\\파일명.hwp\") #파일 열기 \n",
    "\n"
   ]
  },
  {
   "cell_type": "code",
   "execution_count": 42,
   "id": "ace1993c",
   "metadata": {},
   "outputs": [
    {
     "data": {
      "text/html": [
       "<div>\n",
       "<style scoped>\n",
       "    .dataframe tbody tr th:only-of-type {\n",
       "        vertical-align: middle;\n",
       "    }\n",
       "\n",
       "    .dataframe tbody tr th {\n",
       "        vertical-align: top;\n",
       "    }\n",
       "\n",
       "    .dataframe thead th {\n",
       "        text-align: right;\n",
       "    }\n",
       "</style>\n",
       "<table border=\"1\" class=\"dataframe\">\n",
       "  <thead>\n",
       "    <tr style=\"text-align: right;\">\n",
       "      <th></th>\n",
       "      <th>항목</th>\n",
       "      <th>의견</th>\n",
       "    </tr>\n",
       "  </thead>\n",
       "  <tbody>\n",
       "    <tr>\n",
       "      <th>count</th>\n",
       "      <td>12</td>\n",
       "      <td>12</td>\n",
       "    </tr>\n",
       "    <tr>\n",
       "      <th>unique</th>\n",
       "      <td>4</td>\n",
       "      <td>4</td>\n",
       "    </tr>\n",
       "    <tr>\n",
       "      <th>top</th>\n",
       "      <td>전략목표체계</td>\n",
       "      <td>기존에 있는 전략을 범주화만 다시 하여 재구성한 느낌이긴 하지만, 이원화되어 있던 ...</td>\n",
       "    </tr>\n",
       "    <tr>\n",
       "      <th>freq</th>\n",
       "      <td>3</td>\n",
       "      <td>3</td>\n",
       "    </tr>\n",
       "  </tbody>\n",
       "</table>\n",
       "</div>"
      ],
      "text/plain": [
       "            항목                                                 의견\n",
       "count       12                                                 12\n",
       "unique       4                                                  4\n",
       "top     전략목표체계  기존에 있는 전략을 범주화만 다시 하여 재구성한 느낌이긴 하지만, 이원화되어 있던 ...\n",
       "freq         3                                                  3"
      ]
     },
     "execution_count": 42,
     "metadata": {},
     "output_type": "execute_result"
    }
   ],
   "source": [
    "excel = win32.gencache.EnsureDispatch(\"Excel.Application\")\n",
    "wb = excel.Workbooks.Add()\n",
    "ws = wb.Worksheets(1) #엑셀 열고 워크시트 정의 \n",
    "df = pd.DataFrame()\n",
    "\n",
    "ctrlcode = hwp.HeadCtrl #문서 최초의 컨트롤 코드 \n",
    "while ctrlcode != None: #마지막에 가면 none이 되니까 막음 \n",
    "    if ctrlcode.CtrlID == \"tbl\": #컨트롤 코드의 아이디가 \"표\" 라면?\n",
    "        hwp.SetPosBySet(ctrlcode.GetAnchorPos(0))\n",
    "        # 여기서  GetAnchorPos(0)는 해당 컨트롤의 위치를 튜플로 반환해줍니다.\n",
    "        # 그리고 SetPosyByset메서드는 해당 튜플로 캐럿을 옮기는 메서드입니다. \n",
    "        # 둘을 같이 사용하면 해당 컨트롤 앞으로 이동하게 됨\n",
    "        hwp.FindCtrl()#컨트롤코드 앞에서 \"선택\" \n",
    "        hwp.Run(\"ShapeObjTableSelcell\")#선택한 부호가 표라면 A1셀을 선택한 상태가 됨 \n",
    "        hwp.Run(\"TableCellBlockExtend\")\n",
    "        hwp.Run(\"TableCellBlockExtend\")#F5를 두 번 눌려서 셀 전체 선택\n",
    "        # 표 바깥에서 표를 선택하지 않고 셀 전체를 번거롭게 선택하는 이유는 \n",
    "        #혹여, \"글자처럼 취급\"이 해체되어 있는 표가 있을까봐 그렇습니다. \n",
    "        #글자처럼 취급되지 않은 표는 표 바깥에서 표를 선택하기가 까다로움\n",
    "        hwp.Run(\"Copy\") #클립보드로 복사합니다. \n",
    "        excel.ActiveSheet.Paste() #현재 엑셀에 열린시트에 클립보드 내용을 붙여넣기  \n",
    "        excel.Selection.Copy() #붙여넣은 엑셀시트 범위를 그대로 복사함 \n",
    "        ws.Range(\"A1\").Select() #이 코드를 넣어서 선택을 초기화하지 않으면 \n",
    "        # 다음표를 붙어 넣었을때 Copy()의 범위가 기존 범위에서 안바뀌더라고요. \n",
    "        # 첫 번째 표 사이즈로만 계속 복사되버려서, 선택초기화를 위해 이 라인을 넣었습니다. \n",
    "        df = pd.concat([df, pd.read_clipboard()])\n",
    "    else : \n",
    "        pass    \n",
    "    ctrlcode = ctrlcode.Next\n",
    "    \n",
    "    \n",
    "df.describe()\n",
    "\n"
   ]
  },
  {
   "cell_type": "code",
   "execution_count": 43,
   "id": "cc52104d",
   "metadata": {},
   "outputs": [
    {
     "data": {
      "text/plain": [
       "12"
      ]
     },
     "execution_count": 43,
     "metadata": {},
     "output_type": "execute_result"
    }
   ],
   "source": [
    "len(df)"
   ]
  },
  {
   "cell_type": "code",
   "execution_count": 44,
   "id": "cd8dcf5c",
   "metadata": {},
   "outputs": [
    {
     "data": {
      "text/html": [
       "<div>\n",
       "<style scoped>\n",
       "    .dataframe tbody tr th:only-of-type {\n",
       "        vertical-align: middle;\n",
       "    }\n",
       "\n",
       "    .dataframe tbody tr th {\n",
       "        vertical-align: top;\n",
       "    }\n",
       "\n",
       "    .dataframe thead th {\n",
       "        text-align: right;\n",
       "    }\n",
       "</style>\n",
       "<table border=\"1\" class=\"dataframe\">\n",
       "  <thead>\n",
       "    <tr style=\"text-align: right;\">\n",
       "      <th></th>\n",
       "      <th>항목</th>\n",
       "      <th>의견</th>\n",
       "    </tr>\n",
       "  </thead>\n",
       "  <tbody>\n",
       "    <tr>\n",
       "      <th>count</th>\n",
       "      <td>12</td>\n",
       "      <td>12</td>\n",
       "    </tr>\n",
       "    <tr>\n",
       "      <th>unique</th>\n",
       "      <td>4</td>\n",
       "      <td>4</td>\n",
       "    </tr>\n",
       "    <tr>\n",
       "      <th>top</th>\n",
       "      <td>전략목표체계</td>\n",
       "      <td>기존에 있는 전략을 범주화만 다시 하여 재구성한 느낌이긴 하지만, 이원화되어 있던 ...</td>\n",
       "    </tr>\n",
       "    <tr>\n",
       "      <th>freq</th>\n",
       "      <td>3</td>\n",
       "      <td>3</td>\n",
       "    </tr>\n",
       "  </tbody>\n",
       "</table>\n",
       "</div>"
      ],
      "text/plain": [
       "            항목                                                 의견\n",
       "count       12                                                 12\n",
       "unique       4                                                  4\n",
       "top     전략목표체계  기존에 있는 전략을 범주화만 다시 하여 재구성한 느낌이긴 하지만, 이원화되어 있던 ...\n",
       "freq         3                                                  3"
      ]
     },
     "execution_count": 44,
     "metadata": {},
     "output_type": "execute_result"
    }
   ],
   "source": [
    "\n",
    "df.describe()"
   ]
  },
  {
   "cell_type": "code",
   "execution_count": 46,
   "id": "5c351132",
   "metadata": {},
   "outputs": [],
   "source": [
    "df.to_excel('inventors.xlsx', index = False)"
   ]
  }
 ],
 "metadata": {
  "kernelspec": {
   "display_name": "Python 3.9.15 ('base')",
   "language": "python",
   "name": "python3"
  },
  "language_info": {
   "codemirror_mode": {
    "name": "ipython",
    "version": 3
   },
   "file_extension": ".py",
   "mimetype": "text/x-python",
   "name": "python",
   "nbconvert_exporter": "python",
   "pygments_lexer": "ipython3",
   "version": "3.9.15"
  },
  "vscode": {
   "interpreter": {
    "hash": "a077222d77dfe082b8f1dd562ad70e458ac2ab76993a0b248ab0476e32e9e8dd"
   }
  }
 },
 "nbformat": 4,
 "nbformat_minor": 5
}
